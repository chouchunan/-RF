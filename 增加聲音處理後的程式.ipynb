{
  "nbformat": 4,
  "nbformat_minor": 0,
  "metadata": {
    "colab": {
      "provenance": [],
      "gpuType": "T4"
    },
    "kernelspec": {
      "name": "python3",
      "display_name": "Python 3"
    },
    "language_info": {
      "name": "python"
    },
    "accelerator": "GPU"
  },
  "cells": [
    {
      "cell_type": "code",
      "execution_count": 1,
      "metadata": {
        "colab": {
          "base_uri": "https://localhost:8080/"
        },
        "id": "hhggkx_rojbJ",
        "outputId": "7b9ed800-ddfa-4e60-e7db-12d6a66a3851"
      },
      "outputs": [
        {
          "output_type": "stream",
          "name": "stdout",
          "text": [
            "Mounted at /content/drive\n"
          ]
        }
      ],
      "source": [
        "import os\n",
        "from google.colab import drive\n",
        "\n",
        "drive.mount('/content/drive')\n",
        "\n",
        "os.chdir('/content/drive/MyDrive/Colab Notebooks')"
      ]
    },
    {
      "cell_type": "code",
      "source": [
        "import numpy as np\n",
        "import pandas as pd\n",
        "import librosa\n",
        "\n",
        "import tensorflow as tf\n",
        "from tensorflow.keras.layers import Activation, BatchNormalization, Dense, LayerNormalization, Dropout\n",
        "from tensorflow.keras.models import Sequential, load_model\n",
        "from tensorflow.keras.callbacks import EarlyStopping, ModelCheckpoint\n",
        "\n",
        "from sklearn.model_selection import train_test_split\n",
        "from sklearn.metrics import confusion_matrix, ConfusionMatrixDisplay, recall_score\n",
        "from sklearn.utils import shuffle\n",
        "from sklearn.ensemble import RandomForestClassifier\n",
        "\n",
        "from sklearn.metrics import accuracy_score"
      ],
      "metadata": {
        "id": "WD49gmfFoqWl"
      },
      "execution_count": 44,
      "outputs": []
    },
    {
      "cell_type": "code",
      "source": [
        "# 讀取訓練資料集表單\n",
        "source_df = pd.read_csv('./data/training datalist.csv')\n",
        "\n",
        "print(\"source_df.shape :\", source_df.shape)\n",
        "print(\"source_df.columns :\", source_df.columns)"
      ],
      "metadata": {
        "colab": {
          "base_uri": "https://localhost:8080/"
        },
        "id": "TQRfrx2youL8",
        "outputId": "0899a308-623c-4858-b1f9-f2da16eb8257"
      },
      "execution_count": 73,
      "outputs": [
        {
          "output_type": "stream",
          "name": "stdout",
          "text": [
            "source_df.shape : (1000, 28)\n",
            "source_df.columns : Index(['ID', 'Sex', 'Age', 'Disease category', 'Narrow pitch range',\n",
            "       'Decreased volume', 'Fatigue', 'Dryness', 'Lumping', 'heartburn',\n",
            "       'Choking', 'Eye dryness', 'PND', 'Smoking', 'PPD', 'Drinking',\n",
            "       'frequency', 'Diurnal pattern', 'Onset of dysphonia ', 'Noise at work',\n",
            "       'Occupational vocal demand', 'Diabetes', 'Hypertension', 'CAD',\n",
            "       'Head and Neck Cancer', 'Head injury', 'CVA',\n",
            "       'Voice handicap index - 10'],\n",
            "      dtype='object')\n"
          ]
        }
      ]
    },
    {
      "cell_type": "code",
      "source": [
        "def medical_data_proccessing(df):\n",
        "\n",
        "    # 將空值填0\n",
        "    df['PPD'] = df['PPD'].fillna(0)\n",
        "    df['Voice handicap index - 10'] = df['Voice handicap index - 10'].fillna(0)\n",
        "\n",
        "    # 正規化過大的數值\n",
        "    df['Age'] = df['Age'] / 50\n",
        "    df['Voice handicap index - 10'] = df['Voice handicap index - 10'] / 40\n",
        "\n",
        "    return df"
      ],
      "metadata": {
        "id": "NhUSiWs0TMmJ"
      },
      "execution_count": 74,
      "outputs": []
    },
    {
      "cell_type": "code",
      "source": [
        "X = source_df.drop(['Disease category','ID'],axis=1)\n",
        "y = source_df['Disease category']\n"
      ],
      "metadata": {
        "id": "ltXISTmZRwZp"
      },
      "execution_count": 75,
      "outputs": []
    },
    {
      "cell_type": "code",
      "source": [
        "X_train, X_test, y_train, y_test = train_test_split(X, y, test_size=0.2)"
      ],
      "metadata": {
        "id": "tps4XdsJSKgJ"
      },
      "execution_count": 76,
      "outputs": []
    },
    {
      "cell_type": "code",
      "source": [
        "X_train = medical_data_proccessing(X_train)\n",
        "X_test = medical_data_proccessing(X_test)"
      ],
      "metadata": {
        "id": "GCGTgICZTXcP"
      },
      "execution_count": 77,
      "outputs": []
    },
    {
      "cell_type": "code",
      "source": [
        "print(X_train.shape)\n",
        "print(X_test.shape)\n",
        "print(y_train.shape)\n",
        "print(y_test.shape)"
      ],
      "metadata": {
        "colab": {
          "base_uri": "https://localhost:8080/"
        },
        "id": "Ct7lgwGWSOq4",
        "outputId": "bd132c0e-16e0-4e12-c017-3ed1d8e175e7"
      },
      "execution_count": 78,
      "outputs": [
        {
          "output_type": "stream",
          "name": "stdout",
          "text": [
            "(800, 26)\n",
            "(200, 26)\n",
            "(800,)\n",
            "(200,)\n"
          ]
        }
      ]
    },
    {
      "cell_type": "code",
      "source": [
        "rf1 = RandomForestClassifier()\n",
        "rf1.fit(X_train, y_train)"
      ],
      "metadata": {
        "colab": {
          "base_uri": "https://localhost:8080/",
          "height": 74
        },
        "id": "DYwM2hBRSfsX",
        "outputId": "32a66464-4320-49f5-d3f0-0aab36b61fe7"
      },
      "execution_count": 79,
      "outputs": [
        {
          "output_type": "execute_result",
          "data": {
            "text/plain": [
              "RandomForestClassifier()"
            ],
            "text/html": [
              "<style>#sk-container-id-5 {color: black;background-color: white;}#sk-container-id-5 pre{padding: 0;}#sk-container-id-5 div.sk-toggleable {background-color: white;}#sk-container-id-5 label.sk-toggleable__label {cursor: pointer;display: block;width: 100%;margin-bottom: 0;padding: 0.3em;box-sizing: border-box;text-align: center;}#sk-container-id-5 label.sk-toggleable__label-arrow:before {content: \"▸\";float: left;margin-right: 0.25em;color: #696969;}#sk-container-id-5 label.sk-toggleable__label-arrow:hover:before {color: black;}#sk-container-id-5 div.sk-estimator:hover label.sk-toggleable__label-arrow:before {color: black;}#sk-container-id-5 div.sk-toggleable__content {max-height: 0;max-width: 0;overflow: hidden;text-align: left;background-color: #f0f8ff;}#sk-container-id-5 div.sk-toggleable__content pre {margin: 0.2em;color: black;border-radius: 0.25em;background-color: #f0f8ff;}#sk-container-id-5 input.sk-toggleable__control:checked~div.sk-toggleable__content {max-height: 200px;max-width: 100%;overflow: auto;}#sk-container-id-5 input.sk-toggleable__control:checked~label.sk-toggleable__label-arrow:before {content: \"▾\";}#sk-container-id-5 div.sk-estimator input.sk-toggleable__control:checked~label.sk-toggleable__label {background-color: #d4ebff;}#sk-container-id-5 div.sk-label input.sk-toggleable__control:checked~label.sk-toggleable__label {background-color: #d4ebff;}#sk-container-id-5 input.sk-hidden--visually {border: 0;clip: rect(1px 1px 1px 1px);clip: rect(1px, 1px, 1px, 1px);height: 1px;margin: -1px;overflow: hidden;padding: 0;position: absolute;width: 1px;}#sk-container-id-5 div.sk-estimator {font-family: monospace;background-color: #f0f8ff;border: 1px dotted black;border-radius: 0.25em;box-sizing: border-box;margin-bottom: 0.5em;}#sk-container-id-5 div.sk-estimator:hover {background-color: #d4ebff;}#sk-container-id-5 div.sk-parallel-item::after {content: \"\";width: 100%;border-bottom: 1px solid gray;flex-grow: 1;}#sk-container-id-5 div.sk-label:hover label.sk-toggleable__label {background-color: #d4ebff;}#sk-container-id-5 div.sk-serial::before {content: \"\";position: absolute;border-left: 1px solid gray;box-sizing: border-box;top: 0;bottom: 0;left: 50%;z-index: 0;}#sk-container-id-5 div.sk-serial {display: flex;flex-direction: column;align-items: center;background-color: white;padding-right: 0.2em;padding-left: 0.2em;position: relative;}#sk-container-id-5 div.sk-item {position: relative;z-index: 1;}#sk-container-id-5 div.sk-parallel {display: flex;align-items: stretch;justify-content: center;background-color: white;position: relative;}#sk-container-id-5 div.sk-item::before, #sk-container-id-5 div.sk-parallel-item::before {content: \"\";position: absolute;border-left: 1px solid gray;box-sizing: border-box;top: 0;bottom: 0;left: 50%;z-index: -1;}#sk-container-id-5 div.sk-parallel-item {display: flex;flex-direction: column;z-index: 1;position: relative;background-color: white;}#sk-container-id-5 div.sk-parallel-item:first-child::after {align-self: flex-end;width: 50%;}#sk-container-id-5 div.sk-parallel-item:last-child::after {align-self: flex-start;width: 50%;}#sk-container-id-5 div.sk-parallel-item:only-child::after {width: 0;}#sk-container-id-5 div.sk-dashed-wrapped {border: 1px dashed gray;margin: 0 0.4em 0.5em 0.4em;box-sizing: border-box;padding-bottom: 0.4em;background-color: white;}#sk-container-id-5 div.sk-label label {font-family: monospace;font-weight: bold;display: inline-block;line-height: 1.2em;}#sk-container-id-5 div.sk-label-container {text-align: center;}#sk-container-id-5 div.sk-container {/* jupyter's `normalize.less` sets `[hidden] { display: none; }` but bootstrap.min.css set `[hidden] { display: none !important; }` so we also need the `!important` here to be able to override the default hidden behavior on the sphinx rendered scikit-learn.org. See: https://github.com/scikit-learn/scikit-learn/issues/21755 */display: inline-block !important;position: relative;}#sk-container-id-5 div.sk-text-repr-fallback {display: none;}</style><div id=\"sk-container-id-5\" class=\"sk-top-container\"><div class=\"sk-text-repr-fallback\"><pre>RandomForestClassifier()</pre><b>In a Jupyter environment, please rerun this cell to show the HTML representation or trust the notebook. <br />On GitHub, the HTML representation is unable to render, please try loading this page with nbviewer.org.</b></div><div class=\"sk-container\" hidden><div class=\"sk-item\"><div class=\"sk-estimator sk-toggleable\"><input class=\"sk-toggleable__control sk-hidden--visually\" id=\"sk-estimator-id-5\" type=\"checkbox\" checked><label for=\"sk-estimator-id-5\" class=\"sk-toggleable__label sk-toggleable__label-arrow\">RandomForestClassifier</label><div class=\"sk-toggleable__content\"><pre>RandomForestClassifier()</pre></div></div></div></div></div>"
            ]
          },
          "metadata": {},
          "execution_count": 79
        }
      ]
    },
    {
      "cell_type": "code",
      "source": [
        "y_pred = rf1.predict(X_test)\n",
        "\n"
      ],
      "metadata": {
        "id": "i3fjUDDiUZOA"
      },
      "execution_count": 80,
      "outputs": []
    },
    {
      "cell_type": "code",
      "source": [
        "accuracy = accuracy_score(y_test, y_pred)\n",
        "print(\"Accuracy:\", accuracy)"
      ],
      "metadata": {
        "colab": {
          "base_uri": "https://localhost:8080/"
        },
        "id": "I4aA3q3vUlDJ",
        "outputId": "486fc633-7c07-473d-a897-2f261d347209"
      },
      "execution_count": 81,
      "outputs": [
        {
          "output_type": "stream",
          "name": "stdout",
          "text": [
            "Accuracy: 0.69\n"
          ]
        }
      ]
    },
    {
      "cell_type": "code",
      "source": [
        "cm = confusion_matrix(y_test, y_pred)\n",
        "\n",
        "ConfusionMatrixDisplay(confusion_matrix(y_test, y_pred)).plot(cmap='Blues')"
      ],
      "metadata": {
        "colab": {
          "base_uri": "https://localhost:8080/",
          "height": 466
        },
        "id": "OWT_xnU7qBET",
        "outputId": "3fdc3566-d57c-4ebf-a379-a17e0fb3a40d"
      },
      "execution_count": 82,
      "outputs": [
        {
          "output_type": "execute_result",
          "data": {
            "text/plain": [
              "<sklearn.metrics._plot.confusion_matrix.ConfusionMatrixDisplay at 0x7f815f5cf880>"
            ]
          },
          "metadata": {},
          "execution_count": 82
        },
        {
          "output_type": "display_data",
          "data": {
            "text/plain": [
              "<Figure size 640x480 with 2 Axes>"
            ],
            "image/png": "[encoded data removed]"
          },
          "metadata": {}
        }
      ]
    },
    {
      "cell_type": "code",
      "source": [
        "# define function\n",
        "def audio_to_mfccs(filename, sample_rate=44100, offset=0, duration=None):\n",
        "    voice, sample_rate = librosa.load(filename, sr=sample_rate, offset=offset, duration=duration)\n",
        "\n",
        "    n_fft = int(128/1000 * sample_rate)  # Convert 16 ms to samples\n",
        "    hop_length = int(64/1000 * sample_rate)  # Convert 8 ms to samples\n",
        "    mfcc_feature = librosa.feature.mfcc(y=voice, sr=sample_rate, n_mfcc=13, n_fft=n_fft, hop_length=hop_length)\n",
        "\n",
        "    delta_mfcc_feature = librosa.feature.delta(mfcc_feature)\n",
        "    mfccs = np.concatenate((mfcc_feature, delta_mfcc_feature))\n",
        "    mfccs_features = np.transpose(mfccs)  # all frames\n",
        "\n",
        "    return mfccs_features"
      ],
      "metadata": {
        "id": "6Fstlaf4Tr-v"
      },
      "execution_count": 54,
      "outputs": []
    },
    {
      "cell_type": "code",
      "source": [
        "# 在dataframe中加入要訓練的音檔路徑\n",
        "source_df['wav_path'] = source_df['ID'].map(\"./data/training_data/{}.wav\".format)\n",
        "print(\"Disease category in training_df :\", source_df['Disease category'].unique())\n",
        "print(\"training_df col :\\n\", source_df.columns)\n",
        "print(\"training_df shape :\", source_df.shape)"
      ],
      "metadata": {
        "id": "LslD0VQITr_W",
        "colab": {
          "base_uri": "https://localhost:8080/"
        },
        "outputId": "6e6fbbd7-51e2-42ac-f078-e51caa49b371"
      },
      "execution_count": 55,
      "outputs": [
        {
          "output_type": "stream",
          "name": "stdout",
          "text": [
            "Disease category in training_df : [1 2 3 5 4]\n",
            "training_df col :\n",
            " Index(['ID', 'Sex', 'Age', 'Disease category', 'Narrow pitch range',\n",
            "       'Decreased volume', 'Fatigue', 'Dryness', 'Lumping', 'heartburn',\n",
            "       'Choking', 'Eye dryness', 'PND', 'Smoking', 'PPD', 'Drinking',\n",
            "       'frequency', 'Diurnal pattern', 'Onset of dysphonia ', 'Noise at work',\n",
            "       'Occupational vocal demand', 'Diabetes', 'Hypertension', 'CAD',\n",
            "       'Head and Neck Cancer', 'Head injury', 'CVA',\n",
            "       'Voice handicap index - 10', 'wav_path'],\n",
            "      dtype='object')\n",
            "training_df shape : (1000, 29)\n"
          ]
        }
      ]
    },
    {
      "cell_type": "code",
      "source": [
        "id = source_df['ID'].tolist()\n",
        "#print(training_id[0])\n",
        "wav_length = []\n",
        "for i in id:\n",
        "  mfccs_feature = audio_to_mfccs(source_df[source_df['ID']==i]['wav_path'].values[0])\n",
        "  #print(mfccs_feature.shape[0])\n",
        "  wav_length.append(mfccs_feature.shape[0])"
      ],
      "metadata": {
        "id": "d-VkQfUfeSEA"
      },
      "execution_count": 56,
      "outputs": []
    },
    {
      "cell_type": "code",
      "source": [
        "print(wav_length)"
      ],
      "metadata": {
        "colab": {
          "base_uri": "https://localhost:8080/"
        },
        "id": "zwd4G7bdig6S",
        "outputId": "2d2479fd-eadb-41e5-9c03-2e054c25df0d"
      },
      "execution_count": 57,
      "outputs": [
        {
          "output_type": "stream",
          "name": "stdout",
          "text": [
            "[32, 47, 32, 32, 47, 47, 32, 47, 47, 47, 47, 47, 32, 47, 16, 32, 16, 47, 32, 47, 32, 32, 47, 32, 32, 47, 24, 32, 32, 32, 32, 47, 47, 32, 47, 47, 32, 47, 47, 32, 47, 32, 47, 32, 32, 47, 47, 47, 32, 32, 47, 32, 47, 47, 32, 47, 47, 47, 32, 47, 32, 24, 47, 47, 47, 47, 47, 32, 47, 47, 47, 47, 47, 16, 47, 47, 47, 47, 47, 47, 47, 47, 16, 32, 47, 47, 32, 32, 47, 47, 24, 32, 32, 16, 47, 32, 47, 32, 47, 47, 47, 47, 47, 32, 32, 47, 47, 47, 16, 47, 47, 47, 16, 47, 32, 47, 32, 47, 32, 47, 47, 32, 47, 47, 16, 47, 47, 47, 32, 47, 32, 32, 47, 32, 47, 32, 47, 32, 47, 47, 32, 47, 47, 32, 24, 47, 47, 16, 47, 32, 47, 32, 32, 32, 32, 32, 47, 32, 47, 24, 47, 32, 32, 47, 47, 32, 47, 47, 32, 47, 32, 16, 47, 47, 32, 47, 32, 47, 47, 47, 47, 47, 32, 47, 32, 47, 47, 47, 47, 47, 16, 47, 47, 47, 47, 32, 47, 47, 32, 32, 47, 32, 47, 47, 32, 47, 47, 47, 47, 32, 47, 47, 32, 32, 32, 47, 47, 47, 47, 47, 32, 47, 47, 32, 47, 32, 32, 32, 32, 47, 47, 47, 32, 47, 47, 47, 47, 47, 47, 47, 32, 32, 47, 32, 47, 47, 32, 32, 47, 47, 47, 47, 47, 47, 16, 47, 47, 32, 47, 47, 47, 32, 47, 16, 47, 32, 32, 32, 47, 47, 47, 32, 47, 32, 32, 32, 16, 47, 32, 47, 47, 47, 47, 47, 32, 47, 47, 32, 47, 16, 47, 47, 47, 32, 32, 32, 32, 47, 47, 47, 47, 47, 32, 32, 47, 16, 32, 32, 47, 47, 32, 47, 47, 32, 47, 47, 32, 47, 47, 32, 47, 47, 32, 32, 32, 47, 47, 32, 47, 32, 32, 24, 47, 47, 47, 47, 32, 16, 47, 47, 47, 47, 47, 47, 47, 47, 47, 47, 47, 32, 47, 47, 47, 16, 32, 16, 32, 32, 47, 47, 47, 47, 47, 24, 47, 47, 47, 32, 47, 47, 32, 47, 47, 47, 47, 47, 16, 47, 47, 47, 32, 32, 32, 32, 47, 47, 47, 32, 47, 47, 47, 32, 47, 47, 47, 32, 47, 32, 47, 32, 47, 32, 47, 32, 47, 47, 47, 47, 47, 47, 32, 47, 47, 47, 24, 32, 47, 47, 47, 47, 47, 47, 47, 24, 47, 47, 32, 47, 47, 32, 47, 47, 32, 32, 32, 32, 47, 47, 47, 32, 32, 32, 47, 47, 47, 47, 32, 47, 47, 47, 24, 32, 16, 32, 32, 32, 32, 32, 47, 47, 32, 47, 47, 32, 47, 47, 47, 16, 32, 47, 47, 32, 47, 47, 47, 47, 32, 47, 32, 32, 32, 47, 32, 32, 32, 32, 47, 32, 32, 47, 47, 47, 47, 32, 47, 47, 24, 47, 47, 32, 47, 32, 32, 47, 16, 32, 32, 47, 32, 47, 47, 32, 47, 47, 47, 32, 47, 32, 47, 32, 47, 32, 47, 47, 47, 47, 47, 16, 32, 16, 47, 47, 47, 47, 47, 47, 47, 47, 47, 32, 47, 47, 47, 47, 47, 32, 47, 47, 47, 32, 47, 32, 47, 16, 47, 32, 47, 47, 47, 47, 32, 47, 47, 47, 47, 47, 47, 47, 47, 47, 47, 47, 32, 47, 32, 32, 16, 47, 47, 47, 47, 47, 47, 47, 32, 47, 47, 47, 47, 47, 47, 47, 47, 47, 32, 47, 47, 47, 32, 16, 47, 47, 32, 47, 47, 32, 47, 32, 47, 47, 47, 47, 47, 47, 47, 47, 47, 47, 32, 32, 32, 47, 32, 47, 47, 47, 47, 47, 47, 32, 32, 47, 32, 32, 32, 47, 47, 47, 47, 47, 32, 47, 47, 47, 47, 47, 47, 47, 47, 47, 32, 47, 47, 47, 32, 47, 32, 32, 47, 47, 47, 32, 47, 32, 47, 47, 32, 32, 47, 32, 32, 47, 47, 32, 47, 47, 47, 47, 47, 47, 47, 16, 47, 32, 47, 47, 47, 47, 47, 32, 47, 32, 47, 47, 47, 32, 32, 47, 47, 47, 47, 47, 47, 47, 47, 47, 47, 47, 47, 47, 47, 32, 47, 47, 47, 47, 47, 32, 32, 32, 32, 32, 32, 24, 32, 47, 47, 47, 47, 47, 32, 47, 47, 47, 32, 32, 32, 47, 32, 47, 47, 47, 32, 47, 47, 47, 32, 47, 47, 47, 32, 47, 47, 24, 47, 47, 47, 32, 47, 47, 47, 47, 47, 32, 32, 47, 47, 16, 47, 47, 47, 47, 32, 47, 47, 47, 47, 32, 47, 32, 47, 32, 16, 47, 32, 47, 47, 47, 32, 47, 47, 47, 32, 47, 32, 32, 32, 32, 47, 47, 47, 32, 32, 24, 47, 32, 32, 47, 32, 32, 32, 32, 32, 32, 32, 47, 32, 32, 47, 47, 47, 47, 47, 47, 47, 32, 47, 47, 32, 32, 47, 47, 32, 32, 32, 47, 47, 32, 47, 32, 32, 47, 32, 47, 47, 47, 32, 47, 47, 32, 32, 47, 32, 47, 32, 32, 32, 47, 47, 47, 32, 47, 47, 32, 47, 16, 32, 32, 32, 47, 32, 32, 16, 47, 32, 47, 47, 47, 47, 47, 47, 47, 32, 47, 47, 32, 47, 32, 47, 32, 47, 47, 47, 47, 47, 47, 47, 47, 47, 32, 47, 32, 47, 47, 32, 32, 47, 47, 32, 32, 32, 16, 47, 47, 47, 47, 32, 47, 47, 16, 47, 47, 32, 47, 47, 47, 32, 32, 32, 47, 32, 47, 32, 47, 47, 47, 47, 32, 32, 32, 47, 16, 47, 32, 24, 47, 32, 47, 47, 32, 47, 47, 47, 32, 47, 47, 16, 32, 32, 47, 47, 32, 47, 47, 47, 32, 47, 47, 47, 47, 32, 32, 16, 32, 47, 47, 47, 32, 47, 47, 47, 47, 32, 24, 47, 47, 47, 32, 47, 32, 47, 47, 47, 47, 32, 16, 47, 32, 32, 47]\n"
          ]
        }
      ]
    },
    {
      "cell_type": "code",
      "source": [
        "col_name = source_df.columns.tolist()\n",
        "col_name.insert(col_name.index('wav_path')+1,'wav_length')\n",
        "new_df=source_df.reindex(columns=col_name)"
      ],
      "metadata": {
        "id": "HPKJWaPbilBI"
      },
      "execution_count": 58,
      "outputs": []
    },
    {
      "cell_type": "code",
      "source": [
        "print(\"new_df col :\\n\", new_df.columns)"
      ],
      "metadata": {
        "colab": {
          "base_uri": "https://localhost:8080/"
        },
        "id": "23gHqjDYjOuI",
        "outputId": "61021287-1a15-4291-a3b7-65e02ff119c6"
      },
      "execution_count": 59,
      "outputs": [
        {
          "output_type": "stream",
          "name": "stdout",
          "text": [
            "new_df col :\n",
            " Index(['ID', 'Sex', 'Age', 'Disease category', 'Narrow pitch range',\n",
            "       'Decreased volume', 'Fatigue', 'Dryness', 'Lumping', 'heartburn',\n",
            "       'Choking', 'Eye dryness', 'PND', 'Smoking', 'PPD', 'Drinking',\n",
            "       'frequency', 'Diurnal pattern', 'Onset of dysphonia ', 'Noise at work',\n",
            "       'Occupational vocal demand', 'Diabetes', 'Hypertension', 'CAD',\n",
            "       'Head and Neck Cancer', 'Head injury', 'CVA',\n",
            "       'Voice handicap index - 10', 'wav_path', 'wav_length'],\n",
            "      dtype='object')\n"
          ]
        }
      ]
    },
    {
      "cell_type": "code",
      "source": [
        "for i in range(len(new_df['ID'])):\n",
        "  new_df['wav_length'][i] = wav_length[i]"
      ],
      "metadata": {
        "colab": {
          "base_uri": "https://localhost:8080/"
        },
        "id": "9Drad2KCjV_4",
        "outputId": "352f090c-3326-41f7-e081-830f16359c4b"
      },
      "execution_count": 60,
      "outputs": [
        {
          "output_type": "stream",
          "name": "stderr",
          "text": [
            "<ipython-input-60-b70e5dc39ae2>:2: SettingWithCopyWarning: \n",
            "A value is trying to be set on a copy of a slice from a DataFrame\n",
            "\n",
            "See the caveats in the documentation: https://pandas.pydata.org/pandas-docs/stable/user_guide/indexing.html#returning-a-view-versus-a-copy\n",
            "  new_df['wav_length'][i] = wav_length[i]\n"
          ]
        }
      ]
    },
    {
      "cell_type": "code",
      "source": [
        "print(new_df)"
      ],
      "metadata": {
        "colab": {
          "base_uri": "https://localhost:8080/"
        },
        "id": "e4mFjcxzkyE4",
        "outputId": "4cdf68e7-0f7b-4611-98df-e4fd79c201f9"
      },
      "execution_count": 61,
      "outputs": [
        {
          "output_type": "stream",
          "name": "stdout",
          "text": [
            "          ID  Sex  Age  Disease category  Narrow pitch range  \\\n",
            "0    1202f15    2   39                 1                   1   \n",
            "1    0600ve0    1   69                 2                   1   \n",
            "2    1001o7l    2   59                 2                   1   \n",
            "3    1201c1t    2   47                 1                   1   \n",
            "4    0402jvt    1   87                 1                   0   \n",
            "..       ...  ...  ...               ...                 ...   \n",
            "995  0G00ftn    1   75                 3                   0   \n",
            "996  1201pkr    1   40                 4                   0   \n",
            "997  0202p64    2   68                 3                   0   \n",
            "998  12021au    2   42                 2                   0   \n",
            "999  04027it    1   72                 2                   1   \n",
            "\n",
            "     Decreased volume  Fatigue  Dryness  Lumping  heartburn  ...  \\\n",
            "0                   1        1        1        1          0  ...   \n",
            "1                   1        1        1        0          0  ...   \n",
            "2                   1        1        1        0          0  ...   \n",
            "3                   0        1        1        1          0  ...   \n",
            "4                   0        0        0        0          0  ...   \n",
            "..                ...      ...      ...      ...        ...  ...   \n",
            "995                 0        0        0        0          0  ...   \n",
            "996                 0        1        0        0          0  ...   \n",
            "997                 1        1        0        0          0  ...   \n",
            "998                 0        1        1        1          0  ...   \n",
            "999                 1        1        1        0          0  ...   \n",
            "\n",
            "     Occupational vocal demand  Diabetes  Hypertension  CAD  \\\n",
            "0                            1         0             0    0   \n",
            "1                            3         0             0    0   \n",
            "2                            4         0             0    0   \n",
            "3                            1         0             0    0   \n",
            "4                            4         0             1    0   \n",
            "..                         ...       ...           ...  ...   \n",
            "995                          4         1             1    1   \n",
            "996                          2         0             0    0   \n",
            "997                          1         0             0    0   \n",
            "998                          2         0             0    0   \n",
            "999                          3         0             0    0   \n",
            "\n",
            "     Head and Neck Cancer  Head injury  CVA  Voice handicap index - 10  \\\n",
            "0                       0            0    0                       22.0   \n",
            "1                       0            0    1                       19.0   \n",
            "2                       0            0    0                       18.0   \n",
            "3                       0            0    0                       27.0   \n",
            "4                       0            0    0                       16.0   \n",
            "..                    ...          ...  ...                        ...   \n",
            "995                     0            0    0                       21.0   \n",
            "996                     0            0    0                       21.0   \n",
            "997                     0            0    0                       27.0   \n",
            "998                     0            0    0                       12.0   \n",
            "999                     0            0    0                       17.0   \n",
            "\n",
            "                             wav_path  wav_length  \n",
            "0    ./data/training_data/1202f15.wav        32.0  \n",
            "1    ./data/training_data/0600ve0.wav        47.0  \n",
            "2    ./data/training_data/1001o7l.wav        32.0  \n",
            "3    ./data/training_data/1201c1t.wav        32.0  \n",
            "4    ./data/training_data/0402jvt.wav        47.0  \n",
            "..                                ...         ...  \n",
            "995  ./data/training_data/0G00ftn.wav        16.0  \n",
            "996  ./data/training_data/1201pkr.wav        47.0  \n",
            "997  ./data/training_data/0202p64.wav        32.0  \n",
            "998  ./data/training_data/12021au.wav        32.0  \n",
            "999  ./data/training_data/04027it.wav        47.0  \n",
            "\n",
            "[1000 rows x 30 columns]\n"
          ]
        }
      ]
    },
    {
      "cell_type": "code",
      "source": [
        "X = new_df.drop(['Disease category','ID','wav_path'],axis=1)\n",
        "y = new_df['Disease category']"
      ],
      "metadata": {
        "id": "kMMBE84Gla0w"
      },
      "execution_count": 62,
      "outputs": []
    },
    {
      "cell_type": "code",
      "source": [],
      "metadata": {
        "id": "zhJNvsxJo_Vs"
      },
      "execution_count": 70,
      "outputs": []
    },
    {
      "cell_type": "code",
      "source": [
        "X_train, X_test, y_train, y_test = train_test_split(X, y, test_size=0.2)"
      ],
      "metadata": {
        "id": "8pl9uVolnxjh"
      },
      "execution_count": 63,
      "outputs": []
    },
    {
      "cell_type": "code",
      "source": [
        "X_train = medical_data_proccessing(X_train)\n",
        "X_test = medical_data_proccessing(X_test)"
      ],
      "metadata": {
        "id": "rBYo1u--n_d7"
      },
      "execution_count": 64,
      "outputs": []
    },
    {
      "cell_type": "code",
      "source": [
        "print(X_train.shape)\n",
        "print(X_test.shape)\n",
        "print(y_train.shape)\n",
        "print(y_test.shape)"
      ],
      "metadata": {
        "colab": {
          "base_uri": "https://localhost:8080/"
        },
        "id": "Dh8UlmvTnqCq",
        "outputId": "4b89afc5-8596-4b08-d649-de2f3177772e"
      },
      "execution_count": 65,
      "outputs": [
        {
          "output_type": "stream",
          "name": "stdout",
          "text": [
            "(800, 27)\n",
            "(200, 27)\n",
            "(800,)\n",
            "(200,)\n"
          ]
        }
      ]
    },
    {
      "cell_type": "code",
      "source": [
        "rf2 = RandomForestClassifier()\n",
        "rf2.fit(X_train, y_train)"
      ],
      "metadata": {
        "colab": {
          "base_uri": "https://localhost:8080/",
          "height": 74
        },
        "id": "St2-LURCn31Y",
        "outputId": "232809be-5ab3-461d-e63a-09bbec3664d6"
      },
      "execution_count": 66,
      "outputs": [
        {
          "output_type": "execute_result",
          "data": {
            "text/plain": [
              "RandomForestClassifier()"
            ],
            "text/html": [
              "<style>#sk-container-id-4 {color: black;background-color: white;}#sk-container-id-4 pre{padding: 0;}#sk-container-id-4 div.sk-toggleable {background-color: white;}#sk-container-id-4 label.sk-toggleable__label {cursor: pointer;display: block;width: 100%;margin-bottom: 0;padding: 0.3em;box-sizing: border-box;text-align: center;}#sk-container-id-4 label.sk-toggleable__label-arrow:before {content: \"▸\";float: left;margin-right: 0.25em;color: #696969;}#sk-container-id-4 label.sk-toggleable__label-arrow:hover:before {color: black;}#sk-container-id-4 div.sk-estimator:hover label.sk-toggleable__label-arrow:before {color: black;}#sk-container-id-4 div.sk-toggleable__content {max-height: 0;max-width: 0;overflow: hidden;text-align: left;background-color: #f0f8ff;}#sk-container-id-4 div.sk-toggleable__content pre {margin: 0.2em;color: black;border-radius: 0.25em;background-color: #f0f8ff;}#sk-container-id-4 input.sk-toggleable__control:checked~div.sk-toggleable__content {max-height: 200px;max-width: 100%;overflow: auto;}#sk-container-id-4 input.sk-toggleable__control:checked~label.sk-toggleable__label-arrow:before {content: \"▾\";}#sk-container-id-4 div.sk-estimator input.sk-toggleable__control:checked~label.sk-toggleable__label {background-color: #d4ebff;}#sk-container-id-4 div.sk-label input.sk-toggleable__control:checked~label.sk-toggleable__label {background-color: #d4ebff;}#sk-container-id-4 input.sk-hidden--visually {border: 0;clip: rect(1px 1px 1px 1px);clip: rect(1px, 1px, 1px, 1px);height: 1px;margin: -1px;overflow: hidden;padding: 0;position: absolute;width: 1px;}#sk-container-id-4 div.sk-estimator {font-family: monospace;background-color: #f0f8ff;border: 1px dotted black;border-radius: 0.25em;box-sizing: border-box;margin-bottom: 0.5em;}#sk-container-id-4 div.sk-estimator:hover {background-color: #d4ebff;}#sk-container-id-4 div.sk-parallel-item::after {content: \"\";width: 100%;border-bottom: 1px solid gray;flex-grow: 1;}#sk-container-id-4 div.sk-label:hover label.sk-toggleable__label {background-color: #d4ebff;}#sk-container-id-4 div.sk-serial::before {content: \"\";position: absolute;border-left: 1px solid gray;box-sizing: border-box;top: 0;bottom: 0;left: 50%;z-index: 0;}#sk-container-id-4 div.sk-serial {display: flex;flex-direction: column;align-items: center;background-color: white;padding-right: 0.2em;padding-left: 0.2em;position: relative;}#sk-container-id-4 div.sk-item {position: relative;z-index: 1;}#sk-container-id-4 div.sk-parallel {display: flex;align-items: stretch;justify-content: center;background-color: white;position: relative;}#sk-container-id-4 div.sk-item::before, #sk-container-id-4 div.sk-parallel-item::before {content: \"\";position: absolute;border-left: 1px solid gray;box-sizing: border-box;top: 0;bottom: 0;left: 50%;z-index: -1;}#sk-container-id-4 div.sk-parallel-item {display: flex;flex-direction: column;z-index: 1;position: relative;background-color: white;}#sk-container-id-4 div.sk-parallel-item:first-child::after {align-self: flex-end;width: 50%;}#sk-container-id-4 div.sk-parallel-item:last-child::after {align-self: flex-start;width: 50%;}#sk-container-id-4 div.sk-parallel-item:only-child::after {width: 0;}#sk-container-id-4 div.sk-dashed-wrapped {border: 1px dashed gray;margin: 0 0.4em 0.5em 0.4em;box-sizing: border-box;padding-bottom: 0.4em;background-color: white;}#sk-container-id-4 div.sk-label label {font-family: monospace;font-weight: bold;display: inline-block;line-height: 1.2em;}#sk-container-id-4 div.sk-label-container {text-align: center;}#sk-container-id-4 div.sk-container {/* jupyter's `normalize.less` sets `[hidden] { display: none; }` but bootstrap.min.css set `[hidden] { display: none !important; }` so we also need the `!important` here to be able to override the default hidden behavior on the sphinx rendered scikit-learn.org. See: https://github.com/scikit-learn/scikit-learn/issues/21755 */display: inline-block !important;position: relative;}#sk-container-id-4 div.sk-text-repr-fallback {display: none;}</style><div id=\"sk-container-id-4\" class=\"sk-top-container\"><div class=\"sk-text-repr-fallback\"><pre>RandomForestClassifier()</pre><b>In a Jupyter environment, please rerun this cell to show the HTML representation or trust the notebook. <br />On GitHub, the HTML representation is unable to render, please try loading this page with nbviewer.org.</b></div><div class=\"sk-container\" hidden><div class=\"sk-item\"><div class=\"sk-estimator sk-toggleable\"><input class=\"sk-toggleable__control sk-hidden--visually\" id=\"sk-estimator-id-4\" type=\"checkbox\" checked><label for=\"sk-estimator-id-4\" class=\"sk-toggleable__label sk-toggleable__label-arrow\">RandomForestClassifier</label><div class=\"sk-toggleable__content\"><pre>RandomForestClassifier()</pre></div></div></div></div></div>"
            ]
          },
          "metadata": {},
          "execution_count": 66
        }
      ]
    },
    {
      "cell_type": "code",
      "source": [],
      "metadata": {
        "id": "WPuyHPqyptzi"
      },
      "execution_count": null,
      "outputs": []
    },
    {
      "cell_type": "code",
      "source": [
        "y_pred = rf2.predict(X_test)"
      ],
      "metadata": {
        "id": "r757DNe_oGFc"
      },
      "execution_count": 68,
      "outputs": []
    },
    {
      "cell_type": "code",
      "source": [
        "accuracy = accuracy_score(y_test, y_pred)\n",
        "print(\"Accuracy:\", accuracy)"
      ],
      "metadata": {
        "colab": {
          "base_uri": "https://localhost:8080/"
        },
        "id": "1dPgDGV6oGGF",
        "outputId": "b7995b27-400c-4f7b-dabb-3160ab42478a"
      },
      "execution_count": 69,
      "outputs": [
        {
          "output_type": "stream",
          "name": "stdout",
          "text": [
            "Accuracy: 0.645\n"
          ]
        }
      ]
    },
    {
      "cell_type": "code",
      "source": [
        "cm = confusion_matrix(y_test, y_pred)\n",
        "\n",
        "ConfusionMatrixDisplay(confusion_matrix(y_test, y_pred)).plot(cmap='Blues')"
      ],
      "metadata": {
        "colab": {
          "base_uri": "https://localhost:8080/",
          "height": 466
        },
        "id": "1rOr5yPMpcAz",
        "outputId": "73076192-7561-4824-d35f-40a8e4339912"
      },
      "execution_count": 72,
      "outputs": [
        {
          "output_type": "execute_result",
          "data": {
            "text/plain": [
              "<sklearn.metrics._plot.confusion_matrix.ConfusionMatrixDisplay at 0x7f815eeff760>"
            ]
          },
          "metadata": {},
          "execution_count": 72
        },
        {
          "output_type": "display_data",
          "data": {
            "text/plain": [
              "<Figure size 640x480 with 2 Axes>"
            ],
            "image/png": "[encoded data removed]"
          },
          "metadata": {}
        }
      ]
    },
    {
      "cell_type": "code",
      "source": [],
      "metadata": {
        "id": "lRo92N5epcBh"
      },
      "execution_count": null,
      "outputs": []
    }
  ]
}